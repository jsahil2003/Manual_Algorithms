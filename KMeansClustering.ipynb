{
 "cells": [
  {
   "cell_type": "code",
   "execution_count": 2,
   "id": "22ad9a53-685b-436d-a04a-267cf6cffd83",
   "metadata": {},
   "outputs": [],
   "source": [
    "import numpy as np\n",
    "import pandas as pd\n",
    "from sklearn.cluster import KMeans\n",
    "from scipy.spatial import distance"
   ]
  },
  {
   "cell_type": "code",
   "execution_count": 5,
   "id": "c8e7f526-28c6-49c2-85f4-d727e2a5726f",
   "metadata": {},
   "outputs": [],
   "source": [
    "class myKMC:\n",
    "\n",
    "    def __init__(self,n_clusters=5):\n",
    "        self.n_clusters_ = n_clusters\n",
    "        self.centroid_ = []\n",
    "\n",
    "    def fit(self,x):\n",
    "        x = x.copy()\n",
    "        converge = 0\n",
    "        rows = x.shape[0]\n",
    "        cols = x.shape[1]\n",
    "        centroid = []\n",
    "        \n",
    "        for i in range(self.n_clusters_):\n",
    "            idx = np.random.randint(rows)\n",
    "            centroid.append(x.iloc[idx].to_numpy())\n",
    "            \n",
    "        while converge == 0:\n",
    "            x = x.drop(columns='cluster' , errors = 'ignore')\n",
    "            centroid_old = np.vstack(centroid)\n",
    "            distances = distance.cdist(x.to_numpy() ,centroid_old ,metric='euclidean')\n",
    "            cluster = np.argmin(distances , axis=1)\n",
    "            x['cluster'] = cluster\n",
    "            centroid_new = []\n",
    "            \n",
    "            for i in range(self.n_clusters_):\n",
    "                x_temp = x[x['cluster'] == i].drop(columns='cluster',axis=1)\n",
    "                if len(x_temp) > 0:\n",
    "                    centroid_new.append(x_temp.mean(axis=0).to_numpy())\n",
    "                else:\n",
    "                    idx = np.random.randint(rows)\n",
    "                    centroid_new.append(x.iloc[idx,:-1].to_numpy())\n",
    "                    \n",
    "            if np.allclose(centroid_old,np.vstack(centroid_new)):\n",
    "                converge = 1\n",
    "                self.centroids_ = np.vstack(centroid_new)\n",
    "            else:\n",
    "                converge = 0\n",
    "                centroid = centroid_new\n",
    "                \n",
    "        return x\n",
    "\n",
    "    def predict(self,x_test):\n",
    "        x_test = x_test.copy()\n",
    "        distances = distance.cdist(x_test.to_numpy(),self.centroids_,metric='euclidean')\n",
    "        x_test['cluster'] = np.argmin(distances , axis=1)\n",
    "        return x_test"
   ]
  },
  {
   "cell_type": "code",
   "execution_count": 6,
   "id": "235538e4-2e77-40f6-afd1-0bb422d4fd00",
   "metadata": {},
   "outputs": [
    {
     "name": "stdout",
     "output_type": "stream",
     "text": [
      "         x1        x2  cluster\n",
      "0  0.748456  0.637989        0\n",
      "1  0.080956  0.445371        2\n",
      "2  0.641137  0.026645        2\n",
      "3  0.464747  0.802802        1\n",
      "4  0.767530  0.862277        1\n"
     ]
    }
   ],
   "source": [
    "import pandas as pd\n",
    "import numpy as np\n",
    "\n",
    "# Sample data\n",
    "df = pd.DataFrame({\n",
    "    'x1': np.random.rand(100),\n",
    "    'x2': np.random.rand(100)\n",
    "})\n",
    "\n",
    "# Train model\n",
    "model = myKMC(n_clusters=3)\n",
    "df_clustered = model.fit(df)\n",
    "\n",
    "# Predict new data\n",
    "x_test = pd.DataFrame({\n",
    "    'x1': np.random.rand(5),\n",
    "    'x2': np.random.rand(5)\n",
    "})\n",
    "x_test_clustered = model.predict(x_test)\n",
    "\n",
    "print(x_test_clustered)\n"
   ]
  },
  {
   "cell_type": "code",
   "execution_count": 7,
   "id": "1edc7f56-5a7f-4e3d-a1a6-86361441a9c4",
   "metadata": {},
   "outputs": [
    {
     "name": "stdout",
     "output_type": "stream",
     "text": [
      "          x1        x2  cluster\n",
      "0   0.587980  0.473112        0\n",
      "1   0.879784  0.436085        0\n",
      "2   0.667363  0.532081        0\n",
      "3   0.843891  0.626494        0\n",
      "4   0.860840  0.641427        0\n",
      "..       ...       ...      ...\n",
      "95  0.732500  0.913380        1\n",
      "96  0.759968  0.713898        0\n",
      "97  0.983792  0.206162        0\n",
      "98  0.713128  0.169179        0\n",
      "99  0.046449  0.006657        2\n",
      "\n",
      "[100 rows x 3 columns]\n"
     ]
    }
   ],
   "source": [
    "print(df_clustered)"
   ]
  }
 ],
 "metadata": {
  "kernelspec": {
   "display_name": "Python [conda env:base] *",
   "language": "python",
   "name": "conda-base-py"
  },
  "language_info": {
   "codemirror_mode": {
    "name": "ipython",
    "version": 3
   },
   "file_extension": ".py",
   "mimetype": "text/x-python",
   "name": "python",
   "nbconvert_exporter": "python",
   "pygments_lexer": "ipython3",
   "version": "3.12.7"
  }
 },
 "nbformat": 4,
 "nbformat_minor": 5
}
